{
 "metadata": {
  "language_info": {
   "codemirror_mode": {
    "name": "ipython",
    "version": 3
   },
   "file_extension": ".py",
   "mimetype": "text/x-python",
   "name": "python",
   "nbconvert_exporter": "python",
   "pygments_lexer": "ipython3",
   "version": "3.8.7-final"
  },
  "orig_nbformat": 2,
  "kernelspec": {
   "name": "python3",
   "display_name": "Python 3.8.7 64-bit",
   "metadata": {
    "interpreter": {
     "hash": "4446fe402eefcf718dfb1e157e1805a7a4114ad878460455bd2230b275bf6e3c"
    }
   }
  }
 },
 "nbformat": 4,
 "nbformat_minor": 2,
 "cells": [
  {
   "source": [
    "# 투 포인터(Two Pointers), 구간 합(Prefix Sum)\n",
    "배열에서 특정 조건에 맞는 연속된 구간을 처리하는 문제의 경우 가장 먼저 떠올리면 좋다.\n"
   ],
   "cell_type": "markdown",
   "metadata": {}
  },
  {
   "source": [
    "a = [1,2,3,2,5]\n",
    "print(a)"
   ],
   "cell_type": "code",
   "metadata": {},
   "execution_count": 17,
   "outputs": [
    {
     "output_type": "stream",
     "name": "stdout",
     "text": [
      "[1, 2, 3, 2, 5]\n"
     ]
    }
   ]
  },
  {
   "source": [
    "위와 같이 배열에서 합이 5인 부분 연속 수열의 개수를 찾기 위해 모든 경우를 다 찾아본다면"
   ],
   "cell_type": "markdown",
   "metadata": {}
  },
  {
   "cell_type": "code",
   "execution_count": 19,
   "metadata": {},
   "outputs": [
    {
     "output_type": "stream",
     "name": "stdout",
     "text": [
      "3\n"
     ]
    }
   ],
   "source": [
    "num_of_array = 0\n",
    "for i in range(0,5) :\n",
    "    sum = 0\n",
    "    for j in range(i,5):\n",
    "        sum = a[j] + sum\n",
    "        if(sum >=5) : break\n",
    "        else : continue\n",
    "    if(sum == 5) : num_of_array+=1 \n",
    "print(num_of_array)"
   ]
  },
  {
   "source": [
    "위와 같이 간단하게 전체 탐색을 하는 방법으로 배열의 부분합을 구하게 되면 시간 복잡도가 O(N*N)인걸 알 수 있다. \n",
    "이와 같은 문제는 선형시간 O(N)으로 모두 해결 할 수 있는 문제들인데, 이때 자주 사용되는 방법이 \n",
    "바로 투 포인터와 구간 합이다."
   ],
   "cell_type": "markdown",
   "metadata": {}
  },
  {
   "source": [
    "# Two pointer\n",
    "1. 시작점(start)과 끝점(end)이 첫 원소의 인덱스(0)을 가리키도록 한다.\n",
    "2. 현재 부분 합이 M과 같다면, 카운드 한다.\n",
    "3. 현재 부분 합이 M보다 작거나 같다면, end를 1 증가시킨다.\n",
    "4. 현재 부분 합이 M보다 크다면, start를 1 증가시킨다.\n",
    "5. 모든 경우를 확인 할 때까지 2 ~ 4 번 과정을 반복한다."
   ],
   "cell_type": "markdown",
   "metadata": {}
  },
  {
   "cell_type": "code",
   "execution_count": 20,
   "metadata": {},
   "outputs": [
    {
     "output_type": "stream",
     "name": "stdout",
     "text": [
      "3\n"
     ]
    }
   ],
   "source": [
    "goal =  5 \n",
    "end = 0\n",
    "P_sum = 0\n",
    "answer = 0\n",
    "\n",
    "for start in range(5):\n",
    "    while P_sum < goal and end < 5:\n",
    "        P_sum +=a[end]\n",
    "        end +=1\n",
    "    if(P_sum == goal):\n",
    "        answer += 1\n",
    "    P_sum -= a[start]\n",
    "\n",
    "print(answer)"
   ]
  },
  {
   "source": [
    "# 구간 합 빠르게 계산하기\n",
    "[문제]\n",
    "N개의 정수로 구성된 수열이 있습니다.\n",
    "M개의 쿼리 정보가 주어집니다.\n",
    "- 각 쿼리는 L과 R로 구성됩니다.\n",
    "- [[L,P]] 구간에 해당하는 데이터들의 합을 모두 구하는 문제입니다.\n",
    "\n",
    "시간 제한 : O(N+M)\n",
    "\n",
    "일반적으로 위와 같은 문제는 Prefix_Sum이라는 테이블을 만든 후 그것을 이용해서 빠르게 구하는 것임\n"
   ],
   "cell_type": "markdown",
   "metadata": {}
  },
  {
   "source": [
    "# Prefix Sum을 활용한 알고리즘\n",
    "\n",
    "-Prefix Sum을 계산하여 배열에 저장한다.\n",
    "\n",
    "-매 M개의 쿼리 정보를 확인할 때, 구간 합은 P [[R]] - P [[L-1]]이다.\n",
    "\n",
    "        10 20 30 40 50   -> 기존배열\n",
    "    0 10 30 60 100 150  -> Prefix_Sum 배열\n",
    "\n",
    " 이때 처음부터 3번째 인덱스 까지의 합은 60-0 = 60이 된다."
   ],
   "cell_type": "markdown",
   "metadata": {}
  },
  {
   "cell_type": "code",
   "execution_count": 21,
   "metadata": {},
   "outputs": [
    {
     "output_type": "stream",
     "name": "stdout",
     "text": [
      "70\n"
     ]
    }
   ],
   "source": [
    " n = 5\n",
    " data = [10,20,30,40,50]\n",
    " \n",
    " P_sum = 0\n",
    " prefix_sum = [0]\n",
    " for i in data:\n",
    "     P_sum += i\n",
    "     prefix_sum.append(P_sum)\n",
    "\n",
    "#구간 합 계산\n",
    "left = 3\n",
    "right = 4\n",
    "\n",
    "print(prefix_sum[right] - prefix_sum[left-1])"
   ]
  }
 ]
}